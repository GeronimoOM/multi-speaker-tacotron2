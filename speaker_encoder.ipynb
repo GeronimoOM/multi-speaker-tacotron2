{
 "cells": [
  {
   "cell_type": "code",
   "execution_count": 2,
   "metadata": {},
   "outputs": [
    {
     "name": "stdout",
     "output_type": "stream",
     "text": [
      "\n",
      "WARNING: The TensorFlow contrib module will not be included in TensorFlow 2.0.\n",
      "For more information, please see:\n",
      "  * https://github.com/tensorflow/community/blob/master/rfcs/20180907-contrib-sunset.md\n",
      "  * https://github.com/tensorflow/addons\n",
      "If you depend on functionality not listed there, please file an issue.\n",
      "\n"
     ]
    },
    {
     "name": "stderr",
     "output_type": "stream",
     "text": [
      "/Users/olehmatsuk/opt/anaconda3/envs/taco/lib/python3.6/site-packages/librosa/util/decorators.py:9: NumbaDeprecationWarning: An import was requested from a module that has moved location.\n",
      "Import of 'jit' requested from: 'numba.decorators', please update to use 'numba.core.decorators' or pin to Numba version 0.48.0. This alias will not be present in Numba version 0.50.0.\n",
      "  from numba.decorators import jit as optional_jit\n"
     ]
    }
   ],
   "source": [
    "import matplotlib\n",
    "%matplotlib inline\n",
    "import matplotlib.pylab as plt\n",
    "\n",
    "import IPython.display as ipd\n",
    "\n",
    "import numpy as np\n",
    "import torch\n",
    "\n",
    "from hparams import create_hparams\n",
    "from model import SpeakerEncoder\n",
    "from audio import init_stft, mel_spectrogram\n",
    "\n",
    "import warnings\n",
    "warnings.filterwarnings(\"ignore\")"
   ]
  },
  {
   "cell_type": "code",
   "execution_count": 3,
   "metadata": {},
   "outputs": [],
   "source": [
    "checkpoint_path = '/Users/olehmatsuk/Thesis/runs/speaker2_May20_12_37_25/checkpoint_40600'"
   ]
  },
  {
   "cell_type": "code",
   "execution_count": 4,
   "metadata": {},
   "outputs": [],
   "source": [
    "hparams = create_hparams()\n",
    "stft = init_stft(hparams)"
   ]
  },
  {
   "cell_type": "code",
   "execution_count": 5,
   "metadata": {},
   "outputs": [],
   "source": [
    "model = SpeakerEncoder(hparams)\n",
    "if checkpoint_path is not None: \n",
    "    model.load_state_dict(torch.load(checkpoint_path, map_location=torch.device('cpu'))['state_dict'])"
   ]
  },
  {
   "cell_type": "code",
   "execution_count": 13,
   "metadata": {},
   "outputs": [
    {
     "data": {
      "text/html": [
       "<div>\n",
       "<style scoped>\n",
       "    .dataframe tbody tr th:only-of-type {\n",
       "        vertical-align: middle;\n",
       "    }\n",
       "\n",
       "    .dataframe tbody tr th {\n",
       "        vertical-align: top;\n",
       "    }\n",
       "\n",
       "    .dataframe thead th {\n",
       "        text-align: right;\n",
       "    }\n",
       "</style>\n",
       "<table border=\"1\" class=\"dataframe\">\n",
       "  <thead>\n",
       "    <tr style=\"text-align: right;\">\n",
       "      <th></th>\n",
       "      <th>text</th>\n",
       "      <th>mel</th>\n",
       "      <th>mel_len</th>\n",
       "      <th>speaker</th>\n",
       "    </tr>\n",
       "  </thead>\n",
       "  <tbody>\n",
       "    <tr>\n",
       "      <th>965</th>\n",
       "      <td>Alustada tuli puhtalt lehelt ehk Itaalia tugev...</td>\n",
       "      <td>../data/mels/konekorpus/Robert_0001_art_941_la...</td>\n",
       "      <td>423</td>\n",
       "      <td>9</td>\n",
       "    </tr>\n",
       "    <tr>\n",
       "      <th>2794</th>\n",
       "      <td>Ohvrite ja purustuste kohta teated puuduvad.</td>\n",
       "      <td>../data/mels/konekorpus/Tõnu_Karjatse_20051213...</td>\n",
       "      <td>183</td>\n",
       "      <td>5</td>\n",
       "    </tr>\n",
       "    <tr>\n",
       "      <th>727</th>\n",
       "      <td>Beitostölenis võitis Röthe, venelastel uus mee...</td>\n",
       "      <td>../data/mels/konekorpus/Robert_0001_art_1146_l...</td>\n",
       "      <td>301</td>\n",
       "      <td>9</td>\n",
       "    </tr>\n",
       "    <tr>\n",
       "      <th>4456</th>\n",
       "      <td>Samuti annab Trumpi hinnangul USAle suure eeli...</td>\n",
       "      <td>../data/mels/konekorpus/Robert_0001_art_693_la...</td>\n",
       "      <td>621</td>\n",
       "      <td>9</td>\n",
       "    </tr>\n",
       "    <tr>\n",
       "      <th>3239</th>\n",
       "      <td>Sel hooajal osaleb kuus rahvuskoondist, A-grup...</td>\n",
       "      <td>../data/mels/konekorpus/Katarina_0001_art_1194...</td>\n",
       "      <td>1135</td>\n",
       "      <td>7</td>\n",
       "    </tr>\n",
       "  </tbody>\n",
       "</table>\n",
       "</div>"
      ],
      "text/plain": [
       "                                                   text  \\\n",
       "965   Alustada tuli puhtalt lehelt ehk Itaalia tugev...   \n",
       "2794      Ohvrite ja purustuste kohta teated puuduvad.    \n",
       "727   Beitostölenis võitis Röthe, venelastel uus mee...   \n",
       "4456  Samuti annab Trumpi hinnangul USAle suure eeli...   \n",
       "3239  Sel hooajal osaleb kuus rahvuskoondist, A-grup...   \n",
       "\n",
       "                                                    mel  mel_len  speaker  \n",
       "965   ../data/mels/konekorpus/Robert_0001_art_941_la...      423        9  \n",
       "2794  ../data/mels/konekorpus/Tõnu_Karjatse_20051213...      183        5  \n",
       "727   ../data/mels/konekorpus/Robert_0001_art_1146_l...      301        9  \n",
       "4456  ../data/mels/konekorpus/Robert_0001_art_693_la...      621        9  \n",
       "3239  ../data/mels/konekorpus/Katarina_0001_art_1194...     1135        7  "
      ]
     },
     "execution_count": 13,
     "metadata": {},
     "output_type": "execute_result"
    }
   ],
   "source": [
    "import pandas as pd\n",
    "\n",
    "test = pd.read_csv('/Users/olehmatsuk/Thesis/data_files/konekorpus/test.csv')\n",
    "test = test.sample(100)\n",
    "test.head()"
   ]
  },
  {
   "cell_type": "code",
   "execution_count": 14,
   "metadata": {},
   "outputs": [
    {
     "name": "stderr",
     "output_type": "stream",
     "text": [
      "100%|██████████| 100/100 [00:30<00:00,  3.25it/s]\n"
     ]
    },
    {
     "data": {
      "text/plain": [
       "torch.Size([100, 256])"
      ]
     },
     "execution_count": 14,
     "metadata": {},
     "output_type": "execute_result"
    }
   ],
   "source": [
    "from tqdm import tqdm\n",
    "\n",
    "speaker_embeddings = []\n",
    "\n",
    "for _, row in tqdm(list(test.iterrows())):\n",
    "    mel = torch.from_numpy(np.load(row['mel'])).transpose(0, 1).unsqueeze(0)\n",
    "    fragments = mel.unfold(1, 36, 18).transpose(2, 3)[0]\n",
    "    speaker_embedding = model.inference(fragments, [fragments.size(0)])\n",
    "    speaker_embeddings.append(speaker_embedding)\n",
    "\n",
    "speaker_embeddings = torch.cat(speaker_embeddings)\n",
    "speaker_embeddings.size()"
   ]
  },
  {
   "cell_type": "code",
   "execution_count": 18,
   "metadata": {},
   "outputs": [
    {
     "data": {
      "text/plain": [
       "<matplotlib.legend.Legend at 0x21879a2630>"
      ]
     },
     "execution_count": 18,
     "metadata": {},
     "output_type": "execute_result"
    },
    {
     "data": {
      "image/png": "[encoded data removed]",
      "text/plain": [
       "<Figure size 1440x864 with 1 Axes>"
      ]
     },
     "metadata": {
      "needs_background": "light"
     },
     "output_type": "display_data"
    }
   ],
   "source": [
    "from sklearn.decomposition import PCA\n",
    "\n",
    "\n",
    "\n",
    "speakers = [\"Meelis_Kompus\", \"Tarmo_Maiberg\", \"Birgit_Itse\", \"Vallo_Kelmsaar\", \"Indrek_Kiisler\",\n",
    "            \"Tõnu_Karjatse\", \"Kai_Vare\", \"Katarina\", \"Kristo\", \"Robert\", \"Stella\"]\n",
    "\n",
    "pca = PCA(n_components=2)\n",
    "embeddings = pca.fit_transform(speaker_embeddings.detach().numpy())\n",
    "labels = test['speaker'].values\n",
    "\n",
    "\n",
    "plt.figure(figsize=(20, 12))\n",
    "for label in np.unique(labels):\n",
    "    label_index = labels == label\n",
    "    plt.scatter(embeddings[label_index, 0], embeddings[label_index, 1], label=speakers[label])\n",
    "\n",
    "plt.legend()"
   ]
  },
  {
   "cell_type": "code",
   "execution_count": null,
   "metadata": {},
   "outputs": [],
   "source": []
  },
  {
   "cell_type": "code",
   "execution_count": null,
   "metadata": {},
   "outputs": [],
   "source": []
  }
 ],
 "metadata": {
  "kernelspec": {
   "display_name": "Python 3",
   "language": "python",
   "name": "python3"
  },
  "language_info": {
   "codemirror_mode": {
    "name": "ipython",
    "version": 3
   },
   "file_extension": ".py",
   "mimetype": "text/x-python",
   "name": "python",
   "nbconvert_exporter": "python",
   "pygments_lexer": "ipython3",
   "version": "3.6.10"
  }
 },
 "nbformat": 4,
 "nbformat_minor": 4
}
